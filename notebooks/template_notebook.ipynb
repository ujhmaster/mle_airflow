{
 "cells": [
  {
   "cell_type": "markdown",
   "metadata": {},
   "source": [
    "Перед запуском убедитесь, что в корне проекта есть файл .env и в нем заполнены выданные вам креды подключения к базам данных и хранилищу"
   ]
  },
  {
   "cell_type": "code",
   "execution_count": 1,
   "metadata": {},
   "outputs": [],
   "source": [
    "%load_ext autoreload\n",
    "%autoreload 2"
   ]
  },
  {
   "cell_type": "code",
   "execution_count": 2,
   "metadata": {},
   "outputs": [],
   "source": [
    "import os\n",
    "import pandas as pd\n",
    "from dotenv import load_dotenv, find_dotenv\n",
    "from sqlalchemy import create_engine"
   ]
  },
  {
   "cell_type": "code",
   "execution_count": 3,
   "metadata": {},
   "outputs": [
    {
     "data": {
      "text/plain": [
       "True"
      ]
     },
     "execution_count": 3,
     "metadata": {},
     "output_type": "execute_result"
    }
   ],
   "source": [
    "# подгружаем .env\n",
    "load_dotenv()"
   ]
  },
  {
   "cell_type": "code",
   "execution_count": 4,
   "metadata": {},
   "outputs": [],
   "source": [
    "# Считываем все креды\n",
    "src_host = os.environ.get('DB_SOURCE_HOST')\n",
    "src_port = os.environ.get('DB_SOURCE_PORT')\n",
    "src_username = os.environ.get('DB_SOURCE_USER')\n",
    "src_password = os.environ.get('DB_SOURCE_PASSWORD')\n",
    "src_db = os.environ.get('DB_SOURCE_NAME') \n",
    "\n",
    "dst_host = os.environ.get('DB_DESTINATION_HOST')\n",
    "dst_port = os.environ.get('DB_DESTINATION_PORT')\n",
    "dst_username = os.environ.get('DB_DESTINATION_USER')\n",
    "dst_password = os.environ.get('DB_DESTINATION_PASSWORD')\n",
    "dst_db = os.environ.get('DB_DESTINATION_NAME')\n",
    "\n",
    "s3_bucket = os.environ.get('S3_BUCKET_NAME')\n",
    "s3_access_key = os.environ.get('AWS_ACCESS_KEY_ID')\n",
    "s3_secret_access_key = os.environ.get('AWS_SECRET_ACCESS_KEY')"
   ]
  },
  {
   "cell_type": "code",
   "execution_count": 5,
   "metadata": {},
   "outputs": [
    {
     "name": "stdout",
     "output_type": "stream",
     "text": [
      "6432\n"
     ]
    }
   ],
   "source": [
    "print(src_port)"
   ]
  },
  {
   "cell_type": "code",
   "execution_count": 6,
   "metadata": {},
   "outputs": [],
   "source": [
    "# Создадим соединения\n",
    "src_conn = create_engine(f'postgresql://{src_username}:{src_password}@{src_host}:{src_port}/{src_db}')\n",
    "dst_conn = create_engine(f'postgresql://{dst_username}:{dst_password}@{dst_host}:{dst_port}/{dst_db}')"
   ]
  },
  {
   "cell_type": "code",
   "execution_count": 7,
   "metadata": {},
   "outputs": [
    {
     "name": "stdout",
     "output_type": "stream",
     "text": [
      "contracts.begin_date,contracts.end_date,contracts.monthly_charges,contracts.paperless_billing,contracts.payment_method,contracts.total_charges,contracts.type,internet.device_protection,internet.internet_service,internet.online_backup,internet.online_security,internet.streaming_movies,internet.streaming_tv,internet.tech_support,personal.dependents,personal.gender,personal.partner,personal.senior_citizen,phone.multiple_lines\n"
     ]
    }
   ],
   "source": [
    "SQL = f\"\"\"SELECT CONCAT(table_name,'.',column_name) as fields FROM information_schema.columns WHERE table_name IN ('contracts','internet','personal','phone') AND column_name != 'customer_id' AND column_name != 'index' ORDER BY fields\"\"\"\n",
    "data_tables = pd.read_sql(SQL, src_conn)\n",
    "\n",
    "flld_list = ','.join(data_tables['fields'].tolist())\n",
    "print(flld_list)"
   ]
  },
  {
   "cell_type": "markdown",
   "metadata": {},
   "source": [
    "contracts.begin_date,contracts.end_date,contracts.monthly_charges,contracts.paperless_billing,contracts.payment_method,contracts.total_charges,contracts.type,internet.device_protection,internet.internet_service,internet.online_backup,internet.online_security,internet.streaming_movies,internet.streaming_tv,internet.tech_support,personal.dependents,personal.gender,personal.partner,personal.senior_citizen,phone.multiple_lines"
   ]
  },
  {
   "cell_type": "code",
   "execution_count": 8,
   "metadata": {},
   "outputs": [],
   "source": [
    "# Пример выгрузки данных из БД\n",
    "TABLE = 's1w1_electricity_access_percent'\n",
    "SQL = f'select * from {TABLE}'\n",
    "data = pd.read_sql(SQL, src_conn)"
   ]
  },
  {
   "cell_type": "code",
   "execution_count": 9,
   "metadata": {},
   "outputs": [
    {
     "name": "stdout",
     "output_type": "stream",
     "text": [
      "Index(['index', 'Country Name', 'Country Code', 'Indicator Name',\n",
      "       'Indicator Code', '1960', '1961', '1962', '1963', '1964', '1965',\n",
      "       '1966', '1967', '1968', '1969', '1970', '1971', '1972', '1973', '1974',\n",
      "       '1975', '1976', '1977', '1978', '1979', '1980', '1981', '1982', '1983',\n",
      "       '1984', '1985', '1986', '1987', '1988', '1989', '1990', '1991', '1992',\n",
      "       '1993', '1994', '1995', '1996', '1997', '1998', '1999', '2000', '2001',\n",
      "       '2002', '2003', '2004', '2005', '2006', '2007', '2008', '2009', '2010',\n",
      "       '2011', '2012', '2013', '2014', '2015', '2016', '2017'],\n",
      "      dtype='object')\n",
      "(264, 63)\n"
     ]
    }
   ],
   "source": [
    "print(data.columns)\n",
    "print(data.shape)"
   ]
  },
  {
   "cell_type": "code",
   "execution_count": 10,
   "metadata": {},
   "outputs": [
    {
     "name": "stdout",
     "output_type": "stream",
     "text": [
      "  customer_id  begin_date             end_date  monthly_charges  \\\n",
      "0  7590-VHVEG  2020-01-01                   No            29.85   \n",
      "1  5575-GNVDE  2017-04-01                   No            56.95   \n",
      "2  3668-QPYBK  2019-10-01  2019-12-01 00:00:00            53.85   \n",
      "3  7795-CFOCW  2016-05-01                   No            42.30   \n",
      "4  9237-HQITU  2019-09-01  2019-11-01 00:00:00            70.70   \n",
      "\n",
      "  paperless_billing             payment_method  total_charges            type  \\\n",
      "0               Yes           Electronic check          29.85  Month-to-month   \n",
      "1                No               Mailed check        1889.50        One year   \n",
      "2               Yes               Mailed check         108.15  Month-to-month   \n",
      "3                No  Bank transfer (automatic)        1840.75        One year   \n",
      "4               Yes           Electronic check         151.65  Month-to-month   \n",
      "\n",
      "  device_protection internet_service online_backup online_security  \\\n",
      "0                No              DSL           Yes              No   \n",
      "1               Yes              DSL            No             Yes   \n",
      "2                No              DSL           Yes             Yes   \n",
      "3               Yes              DSL            No             Yes   \n",
      "4                No      Fiber optic            No              No   \n",
      "\n",
      "  streaming_movies streaming_tv tech_support dependents  gender partner  \\\n",
      "0               No           No           No         No  Female     Yes   \n",
      "1               No           No           No         No    Male      No   \n",
      "2               No           No           No         No    Male      No   \n",
      "3               No           No          Yes         No    Male      No   \n",
      "4               No           No           No         No  Female      No   \n",
      "\n",
      "   senior_citizen multiple_lines  \n",
      "0               0           None  \n",
      "1               0             No  \n",
      "2               0             No  \n",
      "3               0           None  \n",
      "4               0             No  \n"
     ]
    }
   ],
   "source": [
    "SQL = f\"\"\"\n",
    "        SELECT CONCAT(table_name,'.',column_name) as fields \n",
    "            FROM information_schema.columns \n",
    "                WHERE \n",
    "                    table_name IN ('contracts','internet','personal','phone') AND \n",
    "                    column_name != 'customer_id' AND \n",
    "                    column_name != 'index' \n",
    "                ORDER BY fields\n",
    "        \"\"\"\n",
    "fild_tables = pd.read_sql(SQL, src_conn)\n",
    "fild_list   = ','.join(data_tables['fields'].tolist())\n",
    "#print(fild_list)\n",
    "sql_query = f\"\"\"\n",
    "    SELECT contracts.customer_id,{fild_list}\n",
    "    FROM contracts\n",
    "        LEFT JOIN internet ON internet.customer_id = contracts.customer_id\n",
    "        LEFT JOIN personal ON personal.customer_id = contracts.customer_id\n",
    "        LEFT JOIN phone ON phone.customer_id = contracts.customer_id\n",
    "    \"\"\"\n",
    "#print(sql_query)\n",
    "data = pd.read_sql(sql_query, src_conn) #исполним написанный запрос\n",
    "print(data.head())"
   ]
  },
  {
   "cell_type": "code",
   "execution_count": 8,
   "metadata": {},
   "outputs": [
    {
     "name": "stdout",
     "output_type": "stream",
     "text": [
      "     id customer_id begin_date   end_date            type paperless_billing  \\\n",
      "0    18  8191-XWSZG 2015-10-01        NaT        One year                No   \n",
      "1  5227  5924-IFQTT 2019-01-01        NaT  Month-to-month               Yes   \n",
      "2  5229  7968-QUXNS 2019-08-01        NaT  Month-to-month                No   \n",
      "3  5231  2919-HBCJO 2019-08-01 2019-12-01  Month-to-month               Yes   \n",
      "4  5233  4236-XPXAV 2019-06-01 2019-11-01  Month-to-month               Yes   \n",
      "\n",
      "              payment_method  monthly_charges  total_charges internet_service  \\\n",
      "0               Mailed check            20.65        1022.95             None   \n",
      "1           Electronic check            72.80         930.05              DSL   \n",
      "2               Mailed check            18.95         110.15             None   \n",
      "3  Bank transfer (automatic)            76.65         333.60      Fiber optic   \n",
      "4               Mailed check            99.15         465.05      Fiber optic   \n",
      "\n",
      "   ... device_protection tech_support streaming_tv streaming_movies  gender  \\\n",
      "0  ...              None         None         None             None  Female   \n",
      "1  ...               Yes          Yes          Yes               No    Male   \n",
      "2  ...              None         None         None             None    Male   \n",
      "3  ...                No           No           No               No  Female   \n",
      "4  ...                No          Yes          Yes              Yes  Female   \n",
      "\n",
      "  senior_citizen partner  dependents multiple_lines target  \n",
      "0              0      No          No             No      0  \n",
      "1              0     Yes         Yes            Yes      0  \n",
      "2              0      No          No             No      0  \n",
      "3              0      No          No             No      1  \n",
      "4              0     Yes         Yes             No      1  \n",
      "\n",
      "[5 rows x 22 columns]\n"
     ]
    }
   ],
   "source": [
    "sql_query = f\"\"\"\n",
    "    SELECT *\n",
    "    FROM users_churn\n",
    "    \"\"\"\n",
    "#print(sql_query)\n",
    "data = pd.read_sql(sql_query, dst_conn) #исполним написанный запрос\n",
    "print(data.head())"
   ]
  },
  {
   "cell_type": "code",
   "execution_count": 9,
   "metadata": {},
   "outputs": [
    {
     "name": "stdout",
     "output_type": "stream",
     "text": [
      "(7043, 22)\n"
     ]
    }
   ],
   "source": [
    "print(data.shape)"
   ]
  }
 ],
 "metadata": {
  "kernelspec": {
   "display_name": ".venv_mle_sprint1",
   "language": "python",
   "name": "python3"
  },
  "language_info": {
   "codemirror_mode": {
    "name": "ipython",
    "version": 3
   },
   "file_extension": ".py",
   "mimetype": "text/x-python",
   "name": "python",
   "nbconvert_exporter": "python",
   "pygments_lexer": "ipython3",
   "version": "3.10.12"
  }
 },
 "nbformat": 4,
 "nbformat_minor": 2
}
