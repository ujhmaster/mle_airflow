{
 "cells": [
  {
   "cell_type": "code",
   "execution_count": 11,
   "metadata": {},
   "outputs": [],
   "source": [
    "from airflow.providers.telegram.hooks.telegram import TelegramHook # импортируем хук телеграма\n",
    "\n",
    "def send_telegram_success_message(context): # на вход принимаем словарь со контекстными переменными\n",
    "    hook = TelegramHook(telegram_conn_id='test',\n",
    "                        token='{}',\n",
    "                        chat_id='{}')\n",
    "    dag = context['dag']\n",
    "    run_id = context['run_id']\n",
    "    \n",
    "    message = f'Исполнение DAG {dag} c id={run_id} прошло успешно!' # определение текста сообщения\n",
    "    hook.send_message({\n",
    "        'chat_id': '-4209448894',\n",
    "        'text': message\n",
    "    }) # отправление сообщения "
   ]
  }
 ],
 "metadata": {
  "kernelspec": {
   "display_name": ".venv_project_name",
   "language": "python",
   "name": "python3"
  },
  "language_info": {
   "codemirror_mode": {
    "name": "ipython",
    "version": 3
   },
   "file_extension": ".py",
   "mimetype": "text/x-python",
   "name": "python",
   "nbconvert_exporter": "python",
   "pygments_lexer": "ipython3",
   "version": "3.10.12"
  }
 },
 "nbformat": 4,
 "nbformat_minor": 2
}
